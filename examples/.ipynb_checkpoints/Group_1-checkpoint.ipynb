{
 "cells": [
  {
   "cell_type": "code",
   "execution_count": null,
   "metadata": {
    "collapsed": true
   },
   "outputs": [],
   "source": []
  },
  {
   "cell_type": "markdown",
   "metadata": {},
   "source": [
    "# NIST Special Database 19\n",
    "\n",
    "Special Database 19 contains NIST's entire corpus of training materials for handprinted document and character recognition [link](https://www.nist.gov/srd/nist-special-database-19). \n",
    "\n",
    "---\n",
    "\n",
    "Struct of directories: by_class.zip\n",
    "https://s3.amazonaws.com/nist-srd/SD19/sd19_users_guide_edition_2.pdf"
   ]
  },
  {
   "cell_type": "code",
   "execution_count": 2,
   "metadata": {
    "collapsed": true
   },
   "outputs": [],
   "source": [
    "import sys\n",
    "sys.path.append('../') # Setting the notebook path to include the sarpy lib\n",
    "from sarpy.datasets import load_nist\n",
    "\n",
    "dataset = load_nist()"
   ]
  },
  {
   "cell_type": "code",
   "execution_count": 1,
   "metadata": {},
   "outputs": [
    {
     "name": "stdout",
     "output_type": "stream",
     "text": [
      "6200 6200\n",
      "<class 'numpy.ndarray'> <class 'int'>\n",
      "end\n"
     ]
    },
    {
     "name": "stderr",
     "output_type": "stream",
     "text": [
      "/home/marks/.anaconda3/lib/python3.6/site-packages/skimage/io/_plugins/matplotlib_plugin.py:74: UserWarning: Low image data range; displaying image with stretched contrast.\n",
      "  warn(\"Low image data range; displaying image with \"\n"
     ]
    }
   ],
   "source": [
    "import skimage.io as skio\n",
    "from os import listdir\n",
    "from os.path import isdir\n",
    "from matplotlib import pyplot as plt\n",
    "import math\n",
    "import numpy as np\n",
    "\n",
    "def visualize(data):\n",
    "    fig_size = [18,30]\n",
    "    plt.rcParams[\"figure.figsize\"] = fig_size\n",
    "    x = 6;\n",
    "    y = math.ceil(len(data)/x);\n",
    "    fig, axes = plt.subplots(y,x)\n",
    "    k = i = j = 0\n",
    "    for char in data:        \n",
    "        axes[i,j].axis('off')\n",
    "        axes[i,j].imshow(char)     \n",
    "        k = k + 1        \n",
    "        i = math.floor(k/x)\n",
    "        j = k%x\n",
    "    plt.show()\n",
    "    \n",
    "# dataset = load_data()\n",
    "# visualize(dataset)\n",
    "dataset = load_nist()\n",
    "# print (type(dataset))\n",
    "print(len(dataset['bitmaps']), len(dataset['targets']))\n",
    "print(type(dataset['bitmaps'][0]), type(dataset['targets'][0]))\n",
    "skio.imshow(dataset['bitmaps'][0])\n",
    "dataset = 0;\n",
    "print('end')"
   ]
  }
 ],
 "metadata": {
  "kernelspec": {
   "display_name": "Python 3",
   "language": "python",
   "name": "python3"
  },
  "language_info": {
   "codemirror_mode": {
    "name": "ipython",
    "version": 3
   },
   "file_extension": ".py",
   "mimetype": "text/x-python",
   "name": "python",
   "nbconvert_exporter": "python",
   "pygments_lexer": "ipython3",
   "version": "3.6.1"
  }
 },
 "nbformat": 4,
 "nbformat_minor": 2
}
